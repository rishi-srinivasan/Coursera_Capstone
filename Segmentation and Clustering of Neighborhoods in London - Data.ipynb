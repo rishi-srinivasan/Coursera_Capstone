{
 "cells": [
  {
   "cell_type": "markdown",
   "metadata": {},
   "source": [
    "# Data"
   ]
  },
  {
   "cell_type": "markdown",
   "metadata": {},
   "source": [
    "The best borough with most target audience is determined by using the data provided by London Datastore. The Dataset consists of all 33 boroughs in London along with the respective population for each Borough."
   ]
  },
  {
   "cell_type": "markdown",
   "metadata": {},
   "source": [
    "The Population is further classified based on ethnicity: White, Asian and Black for each borough to determine the best one with most target audience. The Data set also contains the nationality of the population in terms of continent for each borough."
   ]
  },
  {
   "cell_type": "markdown",
   "metadata": {},
   "source": [
    "A Geospatial data analysis of London is set to be performed to determine the best location using Foursquare API. Foursquare API is used to locate, segment and cluster these boroughs using their coordinates(Latitude and Longitude)."
   ]
  }
 ],
 "metadata": {
  "kernelspec": {
   "display_name": "Python 3",
   "language": "python",
   "name": "python3"
  },
  "language_info": {
   "codemirror_mode": {
    "name": "ipython",
    "version": 3
   },
   "file_extension": ".py",
   "mimetype": "text/x-python",
   "name": "python",
   "nbconvert_exporter": "python",
   "pygments_lexer": "ipython3",
   "version": "3.7.4"
  }
 },
 "nbformat": 4,
 "nbformat_minor": 2
}
