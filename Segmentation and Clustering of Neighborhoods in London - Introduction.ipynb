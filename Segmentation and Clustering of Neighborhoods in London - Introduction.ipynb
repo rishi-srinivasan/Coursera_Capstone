{
 "cells": [
  {
   "cell_type": "markdown",
   "metadata": {},
   "source": [
    "# Introduction / Business Problem"
   ]
  },
  {
   "cell_type": "markdown",
   "metadata": {},
   "source": [
    "Buddakan is a restaurant chain serving New American Asian cuisine owned by STARR Restaurants with locations in Philadelphia, Pennsylvania, New York City, New York and Atlantic City, New Jersey. Buddakan presents the vivid flavors of the Far East in a surreal atmosphere that marries the serenity of Asia with the flamboyance of 16th-century Paris."
   ]
  },
  {
   "cell_type": "markdown",
   "metadata": {},
   "source": [
    "Buddakan is planning to open a restaurant in the heart of United Kingdom, London, to broaden their asian fusion food venture into the United Kingdom. "
   ]
  },
  {
   "cell_type": "markdown",
   "metadata": {},
   "source": [
    "A Geospatial data analysis of the city of London is performed to determine the best location to open the restaurant. Since Buddakan is an Asian Fusion style restaurant, The target audience is mostly Asian and White. Each Borough is segmented, clustered and analyzed for determining the best borough with most target audience to open the restaurant. Foursquare API is used to determine the coordinates of the location of these boroughs in London."
   ]
  }
 ],
 "metadata": {
  "kernelspec": {
   "display_name": "Python 3",
   "language": "python",
   "name": "python3"
  },
  "language_info": {
   "codemirror_mode": {
    "name": "ipython",
    "version": 3
   },
   "file_extension": ".py",
   "mimetype": "text/x-python",
   "name": "python",
   "nbconvert_exporter": "python",
   "pygments_lexer": "ipython3",
   "version": "3.7.4"
  }
 },
 "nbformat": 4,
 "nbformat_minor": 2
}
